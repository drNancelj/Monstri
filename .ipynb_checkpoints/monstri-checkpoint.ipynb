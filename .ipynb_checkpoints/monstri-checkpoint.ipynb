{
 "cells": [
  {
   "cell_type": "code",
   "execution_count": 4,
   "metadata": {
    "collapsed": true
   },
   "outputs": [],
   "source": [
    "import pandas as pd"
   ]
  },
  {
   "cell_type": "code",
   "execution_count": 5,
   "metadata": {
    "collapsed": true
   },
   "outputs": [],
   "source": [
    "import numpy as np"
   ]
  },
  {
   "cell_type": "code",
   "execution_count": 27,
   "metadata": {},
   "outputs": [],
   "source": [
    "import matplotlib.pyplot as plt"
   ]
  },
  {
   "cell_type": "code",
   "execution_count": 28,
   "metadata": {
    "collapsed": true
   },
   "outputs": [],
   "source": [
    "%matplotlib inline"
   ]
  },
  {
   "cell_type": "code",
   "execution_count": 7,
   "metadata": {
    "collapsed": true
   },
   "outputs": [],
   "source": [
    "monstri = pd.read_csv('monstri.csv', index_col = 'Ime')"
   ]
  },
  {
   "cell_type": "code",
   "execution_count": 8,
   "metadata": {
    "collapsed": true
   },
   "outputs": [],
   "source": [
    "pd.options.display.max_rows = 14"
   ]
  },
  {
   "cell_type": "code",
   "execution_count": 9,
   "metadata": {},
   "outputs": [
    {
     "data": {
      "text/html": [
       "<div>\n",
       "<style>\n",
       "    .dataframe thead tr:only-child th {\n",
       "        text-align: right;\n",
       "    }\n",
       "\n",
       "    .dataframe thead th {\n",
       "        text-align: left;\n",
       "    }\n",
       "\n",
       "    .dataframe tbody tr th {\n",
       "        vertical-align: top;\n",
       "    }\n",
       "</style>\n",
       "<table border=\"1\" class=\"dataframe\">\n",
       "  <thead>\n",
       "    <tr style=\"text-align: right;\">\n",
       "      <th></th>\n",
       "      <th>Atribut</th>\n",
       "      <th>Level_Rank</th>\n",
       "      <th>Tip</th>\n",
       "      <th>ATK</th>\n",
       "      <th>DEF</th>\n",
       "    </tr>\n",
       "    <tr>\n",
       "      <th>Ime</th>\n",
       "      <th></th>\n",
       "      <th></th>\n",
       "      <th></th>\n",
       "      <th></th>\n",
       "      <th></th>\n",
       "    </tr>\n",
       "  </thead>\n",
       "  <tbody>\n",
       "    <tr>\n",
       "      <th>Armityle the Chaos Phantom</th>\n",
       "      <td>DARK</td>\n",
       "      <td>12</td>\n",
       "      <td>Fiend</td>\n",
       "      <td>0</td>\n",
       "      <td>0</td>\n",
       "    </tr>\n",
       "    <tr>\n",
       "      <th>Assault Blackwing - Onimaru the Divine Thunder</th>\n",
       "      <td>DARK</td>\n",
       "      <td>12</td>\n",
       "      <td>Winged Beast</td>\n",
       "      <td>3000</td>\n",
       "      <td>2000</td>\n",
       "    </tr>\n",
       "    <tr>\n",
       "      <th>Barbaroid, the Ultimate Battle Machine</th>\n",
       "      <td>EARTH</td>\n",
       "      <td>12</td>\n",
       "      <td>Machine</td>\n",
       "      <td>4000</td>\n",
       "      <td>4000</td>\n",
       "    </tr>\n",
       "    <tr>\n",
       "      <th>Blue-Eyes Ultimate Dragon</th>\n",
       "      <td>LIGHT</td>\n",
       "      <td>12</td>\n",
       "      <td>Dragon</td>\n",
       "      <td>4500</td>\n",
       "      <td>3800</td>\n",
       "    </tr>\n",
       "    <tr>\n",
       "      <th>Cosmic Blazar Dragon</th>\n",
       "      <td>WIND</td>\n",
       "      <td>12</td>\n",
       "      <td>Dragon</td>\n",
       "      <td>4000</td>\n",
       "      <td>4000</td>\n",
       "    </tr>\n",
       "    <tr>\n",
       "      <th>Dragon Master Knight</th>\n",
       "      <td>LIGHT</td>\n",
       "      <td>12</td>\n",
       "      <td>Dragon</td>\n",
       "      <td>5000</td>\n",
       "      <td>5000</td>\n",
       "    </tr>\n",
       "    <tr>\n",
       "      <th>Dystopia the Despondent</th>\n",
       "      <td>DARK</td>\n",
       "      <td>12</td>\n",
       "      <td>Fiend</td>\n",
       "      <td>5000</td>\n",
       "      <td>5000</td>\n",
       "    </tr>\n",
       "    <tr>\n",
       "      <th>...</th>\n",
       "      <td>...</td>\n",
       "      <td>...</td>\n",
       "      <td>...</td>\n",
       "      <td>...</td>\n",
       "      <td>...</td>\n",
       "    </tr>\n",
       "    <tr>\n",
       "      <th>Unknown Synchron</th>\n",
       "      <td>DARK</td>\n",
       "      <td>1</td>\n",
       "      <td>Machine</td>\n",
       "      <td>0</td>\n",
       "      <td>0</td>\n",
       "    </tr>\n",
       "    <tr>\n",
       "      <th>Vijam the Cubic Seed</th>\n",
       "      <td>DARK</td>\n",
       "      <td>1</td>\n",
       "      <td>Fiend</td>\n",
       "      <td>0</td>\n",
       "      <td>0</td>\n",
       "    </tr>\n",
       "    <tr>\n",
       "      <th>Volcanic Rat</th>\n",
       "      <td>FIRE</td>\n",
       "      <td>1</td>\n",
       "      <td>Pyro</td>\n",
       "      <td>500</td>\n",
       "      <td>500</td>\n",
       "    </tr>\n",
       "    <tr>\n",
       "      <th>Volcanic Shell</th>\n",
       "      <td>FIRE</td>\n",
       "      <td>1</td>\n",
       "      <td>Pyro</td>\n",
       "      <td>100</td>\n",
       "      <td>0</td>\n",
       "    </tr>\n",
       "    <tr>\n",
       "      <th>Vylon Sphere</th>\n",
       "      <td>LIGHT</td>\n",
       "      <td>1</td>\n",
       "      <td>Machine</td>\n",
       "      <td>400</td>\n",
       "      <td>400</td>\n",
       "    </tr>\n",
       "    <tr>\n",
       "      <th>Watapon</th>\n",
       "      <td>LIGHT</td>\n",
       "      <td>1</td>\n",
       "      <td>Fairy</td>\n",
       "      <td>200</td>\n",
       "      <td>300</td>\n",
       "    </tr>\n",
       "    <tr>\n",
       "      <th>Watch Dog</th>\n",
       "      <td>FIRE</td>\n",
       "      <td>1</td>\n",
       "      <td>Pyro</td>\n",
       "      <td>0</td>\n",
       "      <td>0</td>\n",
       "    </tr>\n",
       "  </tbody>\n",
       "</table>\n",
       "<p>5300 rows × 5 columns</p>\n",
       "</div>"
      ],
      "text/plain": [
       "                                               Atribut  Level_Rank  \\\n",
       "Ime                                                                  \n",
       "Armityle the Chaos Phantom                        DARK          12   \n",
       "Assault Blackwing - Onimaru the Divine Thunder    DARK          12   \n",
       "Barbaroid, the Ultimate Battle Machine           EARTH          12   \n",
       "Blue-Eyes Ultimate Dragon                        LIGHT          12   \n",
       "Cosmic Blazar Dragon                              WIND          12   \n",
       "Dragon Master Knight                             LIGHT          12   \n",
       "Dystopia the Despondent                           DARK          12   \n",
       "...                                                ...         ...   \n",
       "Unknown Synchron                                  DARK           1   \n",
       "Vijam the Cubic Seed                              DARK           1   \n",
       "Volcanic Rat                                      FIRE           1   \n",
       "Volcanic Shell                                    FIRE           1   \n",
       "Vylon Sphere                                     LIGHT           1   \n",
       "Watapon                                          LIGHT           1   \n",
       "Watch Dog                                         FIRE           1   \n",
       "\n",
       "                                                         Tip   ATK   DEF  \n",
       "Ime                                                                       \n",
       "Armityle the Chaos Phantom                             Fiend     0     0  \n",
       "Assault Blackwing - Onimaru the Divine Thunder  Winged Beast  3000  2000  \n",
       "Barbaroid, the Ultimate Battle Machine               Machine  4000  4000  \n",
       "Blue-Eyes Ultimate Dragon                             Dragon  4500  3800  \n",
       "Cosmic Blazar Dragon                                  Dragon  4000  4000  \n",
       "Dragon Master Knight                                  Dragon  5000  5000  \n",
       "Dystopia the Despondent                                Fiend  5000  5000  \n",
       "...                                                      ...   ...   ...  \n",
       "Unknown Synchron                                     Machine     0     0  \n",
       "Vijam the Cubic Seed                                   Fiend     0     0  \n",
       "Volcanic Rat                                            Pyro   500   500  \n",
       "Volcanic Shell                                          Pyro   100     0  \n",
       "Vylon Sphere                                         Machine   400   400  \n",
       "Watapon                                                Fairy   200   300  \n",
       "Watch Dog                                               Pyro     0     0  \n",
       "\n",
       "[5300 rows x 5 columns]"
      ]
     },
     "execution_count": 9,
     "metadata": {},
     "output_type": "execute_result"
    }
   ],
   "source": [
    "#tabela zajetih podatkov\n",
    "monstri"
   ]
  },
  {
   "cell_type": "code",
   "execution_count": 10,
   "metadata": {},
   "outputs": [],
   "source": [
    "monstri_po_atributu = monstri.groupby('Atribut')"
   ]
  },
  {
   "cell_type": "code",
   "execution_count": 37,
   "metadata": {},
   "outputs": [
    {
     "data": {
      "text/plain": [
       "Atribut\n",
       "DARK      1399\n",
       "EARTH     1335\n",
       "LIGHT     1073\n",
       "WATER      532\n",
       "WIND       502\n",
       "FIRE       454\n",
       "DIVINE       5\n",
       "dtype: int64"
      ]
     },
     "execution_count": 37,
     "metadata": {},
     "output_type": "execute_result"
    }
   ],
   "source": [
    "#zastopanost posameznih atributov\n",
    "monstri_po_atributu.size().sort_values(ascending = False)"
   ]
  },
  {
   "cell_type": "code",
   "execution_count": 71,
   "metadata": {},
   "outputs": [
    {
     "data": {
      "text/plain": [
       "<matplotlib.axes._subplots.AxesSubplot at 0xa39f490>"
      ]
     },
     "execution_count": 71,
     "metadata": {},
     "output_type": "execute_result"
    },
    {
     "data": {
      "image/png": "[encoded data removed]",
      "text/plain": [
       "<matplotlib.figure.Figure at 0xa3d63b0>"
      ]
     },
     "metadata": {},
     "output_type": "display_data"
    }
   ],
   "source": [
    "monstri_po_atributu.size().sort_values(ascending = False).plot(kind='pie', figsize=(8,8))"
   ]
  },
  {
   "cell_type": "code",
   "execution_count": 12,
   "metadata": {},
   "outputs": [
    {
     "data": {
      "text/plain": [
       "Atribut\n",
       "DIVINE    10.000000\n",
       "DARK       4.792709\n",
       "LIGHT      4.738117\n",
       "FIRE       4.537445\n",
       "WIND       4.268924\n",
       "EARTH      4.222472\n",
       "WATER      4.204887\n",
       "Name: Level_Rank, dtype: float64"
      ]
     },
     "execution_count": 12,
     "metadata": {},
     "output_type": "execute_result"
    }
   ],
   "source": [
    "#povprečni level/rank za posamezni atribut\n",
    "monstri_po_atributu['Level_Rank'].mean().sort_values(ascending = False)"
   ]
  },
  {
   "cell_type": "code",
   "execution_count": 39,
   "metadata": {},
   "outputs": [
    {
     "data": {
      "text/plain": [
       "<matplotlib.axes._subplots.AxesSubplot at 0x8bfb770>"
      ]
     },
     "execution_count": 39,
     "metadata": {},
     "output_type": "execute_result"
    },
    {
     "data": {
      "image/png": "[encoded data removed]",
      "text/plain": [
       "<matplotlib.figure.Figure at 0x8d2e6d0>"
      ]
     },
     "metadata": {},
     "output_type": "display_data"
    }
   ],
   "source": [
    "monstri_po_atributu['Level_Rank'].mean().sort_values(ascending = False).plot(kind='bar')"
   ]
  },
  {
   "cell_type": "code",
   "execution_count": 13,
   "metadata": {
    "collapsed": true
   },
   "outputs": [],
   "source": [
    "monstri_po_tipu = monstri.groupby('Tip')"
   ]
  },
  {
   "cell_type": "code",
   "execution_count": 14,
   "metadata": {
    "collapsed": true
   },
   "outputs": [],
   "source": [
    "pd.options.display.max_rows = None"
   ]
  },
  {
   "cell_type": "code",
   "execution_count": 15,
   "metadata": {},
   "outputs": [
    {
     "data": {
      "text/plain": [
       "Tip\n",
       "Warrior          750\n",
       "Machine          644\n",
       "Fiend            529\n",
       "Spellcaster      453\n",
       "Dragon           413\n",
       "Fairy            305\n",
       "Beast            276\n",
       "Winged Beast     236\n",
       "Rock             181\n",
       "Beast-Warrior    172\n",
       "Aqua             168\n",
       "Insect           165\n",
       "Plant            154\n",
       "Zombie           141\n",
       "Reptile          121\n",
       "Pyro             108\n",
       "Psychic          107\n",
       "Fish              92\n",
       "Thunder           91\n",
       "Dinosaur          84\n",
       "Sea Serpent       58\n",
       "Wyrm              43\n",
       "Divine-Beast       5\n",
       "Cyberse            4\n",
       "dtype: int64"
      ]
     },
     "execution_count": 15,
     "metadata": {},
     "output_type": "execute_result"
    }
   ],
   "source": [
    "#zastopanost posameznih tipov\n",
    "monstri_po_tipu.size().sort_values(ascending = False)"
   ]
  },
  {
   "cell_type": "code",
   "execution_count": 61,
   "metadata": {},
   "outputs": [
    {
     "data": {
      "text/plain": [
       "<matplotlib.axes._subplots.AxesSubplot at 0x95b96b0>"
      ]
     },
     "execution_count": 61,
     "metadata": {},
     "output_type": "execute_result"
    },
    {
     "data": {
      "image/png": "[encoded data removed]",
      "text/plain": [
       "<matplotlib.figure.Figure at 0x9675990>"
      ]
     },
     "metadata": {},
     "output_type": "display_data"
    }
   ],
   "source": [
    "monstri_po_tipu.size().sort_values(ascending = False).plot(kind='bar')"
   ]
  },
  {
   "cell_type": "code",
   "execution_count": 16,
   "metadata": {},
   "outputs": [
    {
     "data": {
      "text/plain": [
       "Tip\n",
       "Divine-Beast     10.000000\n",
       "Dragon            6.111380\n",
       "Wyrm              5.534884\n",
       "Fairy             4.793443\n",
       "Dinosaur          4.750000\n",
       "Machine           4.690994\n",
       "Warrior           4.684000\n",
       "Beast-Warrior     4.546512\n",
       "Fiend             4.478261\n",
       "Zombie            4.347518\n",
       "Rock              4.331492\n",
       "Thunder           4.296703\n",
       "Pyro              4.268519\n",
       "Winged Beast      4.250000\n",
       "Reptile           4.247934\n",
       "Sea Serpent       4.241379\n",
       "Psychic           4.196262\n",
       "Spellcaster       4.055188\n",
       "Fish              3.945652\n",
       "Beast             3.887681\n",
       "Aqua              3.809524\n",
       "Insect            3.793939\n",
       "Plant             3.532468\n",
       "Cyberse           3.500000\n",
       "Name: Level_Rank, dtype: float64"
      ]
     },
     "execution_count": 16,
     "metadata": {},
     "output_type": "execute_result"
    }
   ],
   "source": [
    "#povprečni level/rank za posamezni tip\n",
    "monstri_po_tipu['Level_Rank'].mean().sort_values(ascending = False)"
   ]
  },
  {
   "cell_type": "code",
   "execution_count": 62,
   "metadata": {},
   "outputs": [
    {
     "data": {
      "text/plain": [
       "<matplotlib.axes._subplots.AxesSubplot at 0x8e51750>"
      ]
     },
     "execution_count": 62,
     "metadata": {},
     "output_type": "execute_result"
    },
    {
     "data": {
      "image/png": "[encoded data removed]",
      "text/plain": [
       "<matplotlib.figure.Figure at 0x8e57450>"
      ]
     },
     "metadata": {},
     "output_type": "display_data"
    }
   ],
   "source": [
    "#povprečni level/rank za posamezni tip\n",
    "monstri_po_tipu['Level_Rank'].mean().sort_values(ascending = False).plot(kind='bar')"
   ]
  },
  {
   "cell_type": "code",
   "execution_count": 17,
   "metadata": {
    "collapsed": true
   },
   "outputs": [],
   "source": [
    "pd.options.display.max_rows = 14"
   ]
  },
  {
   "cell_type": "code",
   "execution_count": 18,
   "metadata": {
    "collapsed": true
   },
   "outputs": [],
   "source": [
    "monstri_po_levelu = monstri.groupby('Level_Rank')"
   ]
  },
  {
   "cell_type": "code",
   "execution_count": 19,
   "metadata": {},
   "outputs": [
    {
     "data": {
      "text/plain": [
       "Level_Rank\n",
       "12    3321.428571\n",
       "9     2683.750000\n",
       "11    2653.333333\n",
       "10    2601.265823\n",
       "8     2543.493976\n",
       "7     2320.253165\n",
       "6     2034.157303\n",
       "5     1801.452381\n",
       "4     1433.445522\n",
       "3      956.250000\n",
       "2      573.946785\n",
       "1      222.823219\n",
       "Name: ATK, dtype: float64"
      ]
     },
     "execution_count": 19,
     "metadata": {},
     "output_type": "execute_result"
    }
   ],
   "source": [
    "#povprečni napad pošasti določenega levela/ranka\n",
    "monstri_po_levelu['ATK'].mean().sort_values(ascending = False)"
   ]
  },
  {
   "cell_type": "code",
   "execution_count": 56,
   "metadata": {},
   "outputs": [
    {
     "data": {
      "image/png": "[encoded data removed]",
      "text/plain": [
       "<matplotlib.figure.Figure at 0x9651f10>"
      ]
     },
     "metadata": {},
     "output_type": "display_data"
    }
   ],
   "source": [
    "monstri_po_levelu['ATK'].mean().sort_values(ascending = False).plot().invert_xaxis()"
   ]
  },
  {
   "cell_type": "code",
   "execution_count": 20,
   "metadata": {},
   "outputs": [
    {
     "data": {
      "text/plain": [
       "Level_Rank\n",
       "12    3189.285714\n",
       "11    2443.333333\n",
       "9     2277.500000\n",
       "10    2006.962025\n",
       "8     1975.783133\n",
       "7     1847.468354\n",
       "6     1527.483146\n",
       "5     1428.547619\n",
       "4     1154.095836\n",
       "3      945.178571\n",
       "2      609.201774\n",
       "1      321.108179\n",
       "Name: DEF, dtype: float64"
      ]
     },
     "execution_count": 20,
     "metadata": {},
     "output_type": "execute_result"
    }
   ],
   "source": [
    "#povprečna obramba pošasti določenega levela/ranka\n",
    "monstri_po_levelu['DEF'].mean().sort_values(ascending = False)"
   ]
  },
  {
   "cell_type": "code",
   "execution_count": 70,
   "metadata": {},
   "outputs": [
    {
     "data": {
      "image/png": "[encoded data removed]",
      "text/plain": [
       "<matplotlib.figure.Figure at 0x9c8ef70>"
      ]
     },
     "metadata": {},
     "output_type": "display_data"
    }
   ],
   "source": [
    "monstri_po_levelu['DEF'].mean().sort_values(ascending = False).plot().invert_xaxis()"
   ]
  },
  {
   "cell_type": "code",
   "execution_count": 21,
   "metadata": {},
   "outputs": [
    {
     "data": {
      "text/html": [
       "<div>\n",
       "<style>\n",
       "    .dataframe thead tr:only-child th {\n",
       "        text-align: right;\n",
       "    }\n",
       "\n",
       "    .dataframe thead th {\n",
       "        text-align: left;\n",
       "    }\n",
       "\n",
       "    .dataframe tbody tr th {\n",
       "        vertical-align: top;\n",
       "    }\n",
       "</style>\n",
       "<table border=\"1\" class=\"dataframe\">\n",
       "  <thead>\n",
       "    <tr style=\"text-align: right;\">\n",
       "      <th></th>\n",
       "      <th>Atribut</th>\n",
       "      <th>Level_Rank</th>\n",
       "      <th>Tip</th>\n",
       "      <th>ATK</th>\n",
       "      <th>DEF</th>\n",
       "      <th>Stevilo_tributov</th>\n",
       "    </tr>\n",
       "    <tr>\n",
       "      <th>Ime</th>\n",
       "      <th></th>\n",
       "      <th></th>\n",
       "      <th></th>\n",
       "      <th></th>\n",
       "      <th></th>\n",
       "      <th></th>\n",
       "    </tr>\n",
       "  </thead>\n",
       "  <tbody>\n",
       "    <tr>\n",
       "      <th>Armityle the Chaos Phantom</th>\n",
       "      <td>DARK</td>\n",
       "      <td>12</td>\n",
       "      <td>Fiend</td>\n",
       "      <td>0</td>\n",
       "      <td>0</td>\n",
       "      <td>2</td>\n",
       "    </tr>\n",
       "    <tr>\n",
       "      <th>Assault Blackwing - Onimaru the Divine Thunder</th>\n",
       "      <td>DARK</td>\n",
       "      <td>12</td>\n",
       "      <td>Winged Beast</td>\n",
       "      <td>3000</td>\n",
       "      <td>2000</td>\n",
       "      <td>2</td>\n",
       "    </tr>\n",
       "    <tr>\n",
       "      <th>Barbaroid, the Ultimate Battle Machine</th>\n",
       "      <td>EARTH</td>\n",
       "      <td>12</td>\n",
       "      <td>Machine</td>\n",
       "      <td>4000</td>\n",
       "      <td>4000</td>\n",
       "      <td>2</td>\n",
       "    </tr>\n",
       "    <tr>\n",
       "      <th>Blue-Eyes Ultimate Dragon</th>\n",
       "      <td>LIGHT</td>\n",
       "      <td>12</td>\n",
       "      <td>Dragon</td>\n",
       "      <td>4500</td>\n",
       "      <td>3800</td>\n",
       "      <td>2</td>\n",
       "    </tr>\n",
       "    <tr>\n",
       "      <th>Cosmic Blazar Dragon</th>\n",
       "      <td>WIND</td>\n",
       "      <td>12</td>\n",
       "      <td>Dragon</td>\n",
       "      <td>4000</td>\n",
       "      <td>4000</td>\n",
       "      <td>2</td>\n",
       "    </tr>\n",
       "    <tr>\n",
       "      <th>Dragon Master Knight</th>\n",
       "      <td>LIGHT</td>\n",
       "      <td>12</td>\n",
       "      <td>Dragon</td>\n",
       "      <td>5000</td>\n",
       "      <td>5000</td>\n",
       "      <td>2</td>\n",
       "    </tr>\n",
       "    <tr>\n",
       "      <th>Dystopia the Despondent</th>\n",
       "      <td>DARK</td>\n",
       "      <td>12</td>\n",
       "      <td>Fiend</td>\n",
       "      <td>5000</td>\n",
       "      <td>5000</td>\n",
       "      <td>2</td>\n",
       "    </tr>\n",
       "    <tr>\n",
       "      <th>...</th>\n",
       "      <td>...</td>\n",
       "      <td>...</td>\n",
       "      <td>...</td>\n",
       "      <td>...</td>\n",
       "      <td>...</td>\n",
       "      <td>...</td>\n",
       "    </tr>\n",
       "    <tr>\n",
       "      <th>Unknown Synchron</th>\n",
       "      <td>DARK</td>\n",
       "      <td>1</td>\n",
       "      <td>Machine</td>\n",
       "      <td>0</td>\n",
       "      <td>0</td>\n",
       "      <td>0</td>\n",
       "    </tr>\n",
       "    <tr>\n",
       "      <th>Vijam the Cubic Seed</th>\n",
       "      <td>DARK</td>\n",
       "      <td>1</td>\n",
       "      <td>Fiend</td>\n",
       "      <td>0</td>\n",
       "      <td>0</td>\n",
       "      <td>0</td>\n",
       "    </tr>\n",
       "    <tr>\n",
       "      <th>Volcanic Rat</th>\n",
       "      <td>FIRE</td>\n",
       "      <td>1</td>\n",
       "      <td>Pyro</td>\n",
       "      <td>500</td>\n",
       "      <td>500</td>\n",
       "      <td>0</td>\n",
       "    </tr>\n",
       "    <tr>\n",
       "      <th>Volcanic Shell</th>\n",
       "      <td>FIRE</td>\n",
       "      <td>1</td>\n",
       "      <td>Pyro</td>\n",
       "      <td>100</td>\n",
       "      <td>0</td>\n",
       "      <td>0</td>\n",
       "    </tr>\n",
       "    <tr>\n",
       "      <th>Vylon Sphere</th>\n",
       "      <td>LIGHT</td>\n",
       "      <td>1</td>\n",
       "      <td>Machine</td>\n",
       "      <td>400</td>\n",
       "      <td>400</td>\n",
       "      <td>0</td>\n",
       "    </tr>\n",
       "    <tr>\n",
       "      <th>Watapon</th>\n",
       "      <td>LIGHT</td>\n",
       "      <td>1</td>\n",
       "      <td>Fairy</td>\n",
       "      <td>200</td>\n",
       "      <td>300</td>\n",
       "      <td>0</td>\n",
       "    </tr>\n",
       "    <tr>\n",
       "      <th>Watch Dog</th>\n",
       "      <td>FIRE</td>\n",
       "      <td>1</td>\n",
       "      <td>Pyro</td>\n",
       "      <td>0</td>\n",
       "      <td>0</td>\n",
       "      <td>0</td>\n",
       "    </tr>\n",
       "  </tbody>\n",
       "</table>\n",
       "<p>5300 rows × 6 columns</p>\n",
       "</div>"
      ],
      "text/plain": [
       "                                               Atribut  Level_Rank  \\\n",
       "Ime                                                                  \n",
       "Armityle the Chaos Phantom                        DARK          12   \n",
       "Assault Blackwing - Onimaru the Divine Thunder    DARK          12   \n",
       "Barbaroid, the Ultimate Battle Machine           EARTH          12   \n",
       "Blue-Eyes Ultimate Dragon                        LIGHT          12   \n",
       "Cosmic Blazar Dragon                              WIND          12   \n",
       "Dragon Master Knight                             LIGHT          12   \n",
       "Dystopia the Despondent                           DARK          12   \n",
       "...                                                ...         ...   \n",
       "Unknown Synchron                                  DARK           1   \n",
       "Vijam the Cubic Seed                              DARK           1   \n",
       "Volcanic Rat                                      FIRE           1   \n",
       "Volcanic Shell                                    FIRE           1   \n",
       "Vylon Sphere                                     LIGHT           1   \n",
       "Watapon                                          LIGHT           1   \n",
       "Watch Dog                                         FIRE           1   \n",
       "\n",
       "                                                         Tip   ATK   DEF  \\\n",
       "Ime                                                                        \n",
       "Armityle the Chaos Phantom                             Fiend     0     0   \n",
       "Assault Blackwing - Onimaru the Divine Thunder  Winged Beast  3000  2000   \n",
       "Barbaroid, the Ultimate Battle Machine               Machine  4000  4000   \n",
       "Blue-Eyes Ultimate Dragon                             Dragon  4500  3800   \n",
       "Cosmic Blazar Dragon                                  Dragon  4000  4000   \n",
       "Dragon Master Knight                                  Dragon  5000  5000   \n",
       "Dystopia the Despondent                                Fiend  5000  5000   \n",
       "...                                                      ...   ...   ...   \n",
       "Unknown Synchron                                     Machine     0     0   \n",
       "Vijam the Cubic Seed                                   Fiend     0     0   \n",
       "Volcanic Rat                                            Pyro   500   500   \n",
       "Volcanic Shell                                          Pyro   100     0   \n",
       "Vylon Sphere                                         Machine   400   400   \n",
       "Watapon                                                Fairy   200   300   \n",
       "Watch Dog                                               Pyro     0     0   \n",
       "\n",
       "                                                Stevilo_tributov  \n",
       "Ime                                                               \n",
       "Armityle the Chaos Phantom                                     2  \n",
       "Assault Blackwing - Onimaru the Divine Thunder                 2  \n",
       "Barbaroid, the Ultimate Battle Machine                         2  \n",
       "Blue-Eyes Ultimate Dragon                                      2  \n",
       "Cosmic Blazar Dragon                                           2  \n",
       "Dragon Master Knight                                           2  \n",
       "Dystopia the Despondent                                        2  \n",
       "...                                                          ...  \n",
       "Unknown Synchron                                               0  \n",
       "Vijam the Cubic Seed                                           0  \n",
       "Volcanic Rat                                                   0  \n",
       "Volcanic Shell                                                 0  \n",
       "Vylon Sphere                                                   0  \n",
       "Watapon                                                        0  \n",
       "Watch Dog                                                      0  \n",
       "\n",
       "[5300 rows x 6 columns]"
      ]
     },
     "execution_count": 21,
     "metadata": {},
     "output_type": "execute_result"
    }
   ],
   "source": [
    "#izračuna število tributov, potrebnih za priklic pošasti: 0 za levele 1-4, 1 za levela 5 in 6 ter 2 za levele, višje od 6\n",
    "def stevilo_tributov(): \n",
    "    stevilo = np.where(monstri['Level_Rank'] <= 4, 0,np.where(monstri['Level_Rank'] >= 7, 2, 1))\n",
    "    return stevilo\n",
    "\n",
    "#dodal novi stolpec v tabelo\n",
    "monstri['Stevilo_tributov'] = stevilo_tributov()\n",
    "\n",
    "#nova tabela z dodanim stolpcem\n",
    "monstri"
   ]
  },
  {
   "cell_type": "code",
   "execution_count": 22,
   "metadata": {},
   "outputs": [
    {
     "data": {
      "text/plain": [
       "Stevilo_tributov\n",
       "0    3423\n",
       "1     865\n",
       "2    1012\n",
       "dtype: int64"
      ]
     },
     "execution_count": 22,
     "metadata": {},
     "output_type": "execute_result"
    }
   ],
   "source": [
    "monstri_po_tributih = monstri.groupby('Stevilo_tributov')\n",
    "\n",
    "#preštel, koliko pošasti pripada posamezni kategoriji glede na število potrebnih tributov\n",
    "monstri_po_tributih.size()"
   ]
  },
  {
   "cell_type": "code",
   "execution_count": 23,
   "metadata": {
    "collapsed": true
   },
   "outputs": [],
   "source": [
    "monstri_po_tirbutih_in_napadu = monstri.sort_values(by=['Stevilo_tributov', 'ATK'], ascending = False)"
   ]
  },
  {
   "cell_type": "code",
   "execution_count": 24,
   "metadata": {},
   "outputs": [
    {
     "data": {
      "text/html": [
       "<div>\n",
       "<style>\n",
       "    .dataframe thead tr:only-child th {\n",
       "        text-align: right;\n",
       "    }\n",
       "\n",
       "    .dataframe thead th {\n",
       "        text-align: left;\n",
       "    }\n",
       "\n",
       "    .dataframe tbody tr th {\n",
       "        vertical-align: top;\n",
       "    }\n",
       "</style>\n",
       "<table border=\"1\" class=\"dataframe\">\n",
       "  <thead>\n",
       "    <tr style=\"text-align: right;\">\n",
       "      <th></th>\n",
       "      <th>Atribut</th>\n",
       "      <th>Level_Rank</th>\n",
       "      <th>Tip</th>\n",
       "      <th>ATK</th>\n",
       "      <th>DEF</th>\n",
       "      <th>Stevilo_tributov</th>\n",
       "    </tr>\n",
       "    <tr>\n",
       "      <th>Ime</th>\n",
       "      <th></th>\n",
       "      <th></th>\n",
       "      <th></th>\n",
       "      <th></th>\n",
       "      <th></th>\n",
       "      <th></th>\n",
       "    </tr>\n",
       "  </thead>\n",
       "  <tbody>\n",
       "    <tr>\n",
       "      <th>Number 85: Crazy Box</th>\n",
       "      <td>DARK</td>\n",
       "      <td>4</td>\n",
       "      <td>Fiend</td>\n",
       "      <td>3000</td>\n",
       "      <td>300</td>\n",
       "      <td>0</td>\n",
       "    </tr>\n",
       "    <tr>\n",
       "      <th>Number 30: Acid Golem of Destruction</th>\n",
       "      <td>WATER</td>\n",
       "      <td>3</td>\n",
       "      <td>Rock</td>\n",
       "      <td>3000</td>\n",
       "      <td>3000</td>\n",
       "      <td>0</td>\n",
       "    </tr>\n",
       "    <tr>\n",
       "      <th>Gagagigo the Risen</th>\n",
       "      <td>WATER</td>\n",
       "      <td>4</td>\n",
       "      <td>Reptile</td>\n",
       "      <td>2950</td>\n",
       "      <td>2950</td>\n",
       "      <td>0</td>\n",
       "    </tr>\n",
       "    <tr>\n",
       "      <th>Number 32: Shark Drake</th>\n",
       "      <td>WATER</td>\n",
       "      <td>4</td>\n",
       "      <td>Sea Serpent</td>\n",
       "      <td>2800</td>\n",
       "      <td>2100</td>\n",
       "      <td>0</td>\n",
       "    </tr>\n",
       "    <tr>\n",
       "      <th>Number C32: Shark Drake Veiss</th>\n",
       "      <td>WATER</td>\n",
       "      <td>4</td>\n",
       "      <td>Sea Serpent</td>\n",
       "      <td>2800</td>\n",
       "      <td>2800</td>\n",
       "      <td>0</td>\n",
       "    </tr>\n",
       "    <tr>\n",
       "      <th>Evilswarm Ouroboros</th>\n",
       "      <td>DARK</td>\n",
       "      <td>4</td>\n",
       "      <td>Dragon</td>\n",
       "      <td>2750</td>\n",
       "      <td>1950</td>\n",
       "      <td>0</td>\n",
       "    </tr>\n",
       "    <tr>\n",
       "      <th>Number 104: Masquerade</th>\n",
       "      <td>LIGHT</td>\n",
       "      <td>4</td>\n",
       "      <td>Spellcaster</td>\n",
       "      <td>2700</td>\n",
       "      <td>1200</td>\n",
       "      <td>0</td>\n",
       "    </tr>\n",
       "    <tr>\n",
       "      <th>Bahamut Shark</th>\n",
       "      <td>WATER</td>\n",
       "      <td>4</td>\n",
       "      <td>Sea Serpent</td>\n",
       "      <td>2600</td>\n",
       "      <td>2100</td>\n",
       "      <td>0</td>\n",
       "    </tr>\n",
       "    <tr>\n",
       "      <th>Bujinki Amaterasu</th>\n",
       "      <td>LIGHT</td>\n",
       "      <td>4</td>\n",
       "      <td>Beast-Warrior</td>\n",
       "      <td>2600</td>\n",
       "      <td>2500</td>\n",
       "      <td>0</td>\n",
       "    </tr>\n",
       "    <tr>\n",
       "      <th>CXyz Mechquipped Djinn Angeneral</th>\n",
       "      <td>DARK</td>\n",
       "      <td>4</td>\n",
       "      <td>Fairy</td>\n",
       "      <td>2600</td>\n",
       "      <td>1600</td>\n",
       "      <td>0</td>\n",
       "    </tr>\n",
       "  </tbody>\n",
       "</table>\n",
       "</div>"
      ],
      "text/plain": [
       "                                     Atribut  Level_Rank            Tip   ATK  \\\n",
       "Ime                                                                             \n",
       "Number 85: Crazy Box                    DARK           4          Fiend  3000   \n",
       "Number 30: Acid Golem of Destruction   WATER           3           Rock  3000   \n",
       "Gagagigo the Risen                     WATER           4        Reptile  2950   \n",
       "Number 32: Shark Drake                 WATER           4    Sea Serpent  2800   \n",
       "Number C32: Shark Drake Veiss          WATER           4    Sea Serpent  2800   \n",
       "Evilswarm Ouroboros                     DARK           4         Dragon  2750   \n",
       "Number 104: Masquerade                 LIGHT           4    Spellcaster  2700   \n",
       "Bahamut Shark                          WATER           4    Sea Serpent  2600   \n",
       "Bujinki Amaterasu                      LIGHT           4  Beast-Warrior  2600   \n",
       "CXyz Mechquipped Djinn Angeneral        DARK           4          Fairy  2600   \n",
       "\n",
       "                                       DEF  Stevilo_tributov  \n",
       "Ime                                                           \n",
       "Number 85: Crazy Box                   300                 0  \n",
       "Number 30: Acid Golem of Destruction  3000                 0  \n",
       "Gagagigo the Risen                    2950                 0  \n",
       "Number 32: Shark Drake                2100                 0  \n",
       "Number C32: Shark Drake Veiss         2800                 0  \n",
       "Evilswarm Ouroboros                   1950                 0  \n",
       "Number 104: Masquerade                1200                 0  \n",
       "Bahamut Shark                         2100                 0  \n",
       "Bujinki Amaterasu                     2500                 0  \n",
       "CXyz Mechquipped Djinn Angeneral      1600                 0  "
      ]
     },
     "execution_count": 24,
     "metadata": {},
     "output_type": "execute_result"
    }
   ],
   "source": [
    "#10 pošasti z najvišjim napadom, ki ne potrebujejo tributov za priklic\n",
    "monstri_po_tirbutih_in_napadu[monstri_po_tirbutih_in_napadu.Stevilo_tributov == 0].head(10)"
   ]
  },
  {
   "cell_type": "code",
   "execution_count": 25,
   "metadata": {},
   "outputs": [
    {
     "data": {
      "text/html": [
       "<div>\n",
       "<style>\n",
       "    .dataframe thead tr:only-child th {\n",
       "        text-align: right;\n",
       "    }\n",
       "\n",
       "    .dataframe thead th {\n",
       "        text-align: left;\n",
       "    }\n",
       "\n",
       "    .dataframe tbody tr th {\n",
       "        vertical-align: top;\n",
       "    }\n",
       "</style>\n",
       "<table border=\"1\" class=\"dataframe\">\n",
       "  <thead>\n",
       "    <tr style=\"text-align: right;\">\n",
       "      <th></th>\n",
       "      <th>Atribut</th>\n",
       "      <th>Level_Rank</th>\n",
       "      <th>Tip</th>\n",
       "      <th>ATK</th>\n",
       "      <th>DEF</th>\n",
       "      <th>Stevilo_tributov</th>\n",
       "    </tr>\n",
       "    <tr>\n",
       "      <th>Ime</th>\n",
       "      <th></th>\n",
       "      <th></th>\n",
       "      <th></th>\n",
       "      <th></th>\n",
       "      <th></th>\n",
       "      <th></th>\n",
       "    </tr>\n",
       "  </thead>\n",
       "  <tbody>\n",
       "    <tr>\n",
       "      <th>Number C69: Heraldry Crest of Horror</th>\n",
       "      <td>LIGHT</td>\n",
       "      <td>5</td>\n",
       "      <td>Psychic</td>\n",
       "      <td>4000</td>\n",
       "      <td>1800</td>\n",
       "      <td>1</td>\n",
       "    </tr>\n",
       "    <tr>\n",
       "      <th>Digvorzhak, King of Heavy Industry</th>\n",
       "      <td>EARTH</td>\n",
       "      <td>5</td>\n",
       "      <td>Machine</td>\n",
       "      <td>3200</td>\n",
       "      <td>2000</td>\n",
       "      <td>1</td>\n",
       "    </tr>\n",
       "    <tr>\n",
       "      <th>Number 39: Utopia Beyond</th>\n",
       "      <td>LIGHT</td>\n",
       "      <td>6</td>\n",
       "      <td>Warrior</td>\n",
       "      <td>3000</td>\n",
       "      <td>2500</td>\n",
       "      <td>1</td>\n",
       "    </tr>\n",
       "    <tr>\n",
       "      <th>Number C73: Abyss Supra Splash</th>\n",
       "      <td>WATER</td>\n",
       "      <td>6</td>\n",
       "      <td>Warrior</td>\n",
       "      <td>3000</td>\n",
       "      <td>2000</td>\n",
       "      <td>1</td>\n",
       "    </tr>\n",
       "    <tr>\n",
       "      <th>CXyz Comics Hero Legend Arthur</th>\n",
       "      <td>EARTH</td>\n",
       "      <td>5</td>\n",
       "      <td>Warrior</td>\n",
       "      <td>3000</td>\n",
       "      <td>2400</td>\n",
       "      <td>1</td>\n",
       "    </tr>\n",
       "    <tr>\n",
       "      <th>Dark Requiem Xyz Dragon</th>\n",
       "      <td>DARK</td>\n",
       "      <td>5</td>\n",
       "      <td>Dragon</td>\n",
       "      <td>3000</td>\n",
       "      <td>2500</td>\n",
       "      <td>1</td>\n",
       "    </tr>\n",
       "    <tr>\n",
       "      <th>Number C104: Umbral Horror Masquerade</th>\n",
       "      <td>DARK</td>\n",
       "      <td>5</td>\n",
       "      <td>Spellcaster</td>\n",
       "      <td>3000</td>\n",
       "      <td>1500</td>\n",
       "      <td>1</td>\n",
       "    </tr>\n",
       "    <tr>\n",
       "      <th>ZW - Leo Arms</th>\n",
       "      <td>LIGHT</td>\n",
       "      <td>5</td>\n",
       "      <td>Beast</td>\n",
       "      <td>3000</td>\n",
       "      <td>1200</td>\n",
       "      <td>1</td>\n",
       "    </tr>\n",
       "    <tr>\n",
       "      <th>Number C102: Archfiend Seraph</th>\n",
       "      <td>LIGHT</td>\n",
       "      <td>5</td>\n",
       "      <td>Fairy</td>\n",
       "      <td>2900</td>\n",
       "      <td>2400</td>\n",
       "      <td>1</td>\n",
       "    </tr>\n",
       "    <tr>\n",
       "      <th>Goyo Guardian</th>\n",
       "      <td>EARTH</td>\n",
       "      <td>6</td>\n",
       "      <td>Warrior</td>\n",
       "      <td>2800</td>\n",
       "      <td>2000</td>\n",
       "      <td>1</td>\n",
       "    </tr>\n",
       "  </tbody>\n",
       "</table>\n",
       "</div>"
      ],
      "text/plain": [
       "                                      Atribut  Level_Rank          Tip   ATK  \\\n",
       "Ime                                                                            \n",
       "Number C69: Heraldry Crest of Horror    LIGHT           5      Psychic  4000   \n",
       "Digvorzhak, King of Heavy Industry      EARTH           5      Machine  3200   \n",
       "Number 39: Utopia Beyond                LIGHT           6      Warrior  3000   \n",
       "Number C73: Abyss Supra Splash          WATER           6      Warrior  3000   \n",
       "CXyz Comics Hero Legend Arthur          EARTH           5      Warrior  3000   \n",
       "Dark Requiem Xyz Dragon                  DARK           5       Dragon  3000   \n",
       "Number C104: Umbral Horror Masquerade    DARK           5  Spellcaster  3000   \n",
       "ZW - Leo Arms                           LIGHT           5        Beast  3000   \n",
       "Number C102: Archfiend Seraph           LIGHT           5        Fairy  2900   \n",
       "Goyo Guardian                           EARTH           6      Warrior  2800   \n",
       "\n",
       "                                        DEF  Stevilo_tributov  \n",
       "Ime                                                            \n",
       "Number C69: Heraldry Crest of Horror   1800                 1  \n",
       "Digvorzhak, King of Heavy Industry     2000                 1  \n",
       "Number 39: Utopia Beyond               2500                 1  \n",
       "Number C73: Abyss Supra Splash         2000                 1  \n",
       "CXyz Comics Hero Legend Arthur         2400                 1  \n",
       "Dark Requiem Xyz Dragon                2500                 1  \n",
       "Number C104: Umbral Horror Masquerade  1500                 1  \n",
       "ZW - Leo Arms                          1200                 1  \n",
       "Number C102: Archfiend Seraph          2400                 1  \n",
       "Goyo Guardian                          2000                 1  "
      ]
     },
     "execution_count": 25,
     "metadata": {},
     "output_type": "execute_result"
    }
   ],
   "source": [
    "#10 pošasti z najvišjim napadom, ki potrebujejo 1 tribut za priklic\n",
    "monstri_po_tirbutih_in_napadu[monstri_po_tirbutih_in_napadu.Stevilo_tributov == 1].head(10)"
   ]
  },
  {
   "cell_type": "code",
   "execution_count": 26,
   "metadata": {},
   "outputs": [
    {
     "data": {
      "text/html": [
       "<div>\n",
       "<style>\n",
       "    .dataframe thead tr:only-child th {\n",
       "        text-align: right;\n",
       "    }\n",
       "\n",
       "    .dataframe thead th {\n",
       "        text-align: left;\n",
       "    }\n",
       "\n",
       "    .dataframe tbody tr th {\n",
       "        vertical-align: top;\n",
       "    }\n",
       "</style>\n",
       "<table border=\"1\" class=\"dataframe\">\n",
       "  <thead>\n",
       "    <tr style=\"text-align: right;\">\n",
       "      <th></th>\n",
       "      <th>Atribut</th>\n",
       "      <th>Level_Rank</th>\n",
       "      <th>Tip</th>\n",
       "      <th>ATK</th>\n",
       "      <th>DEF</th>\n",
       "      <th>Stevilo_tributov</th>\n",
       "    </tr>\n",
       "    <tr>\n",
       "      <th>Ime</th>\n",
       "      <th></th>\n",
       "      <th></th>\n",
       "      <th></th>\n",
       "      <th></th>\n",
       "      <th></th>\n",
       "      <th></th>\n",
       "    </tr>\n",
       "  </thead>\n",
       "  <tbody>\n",
       "    <tr>\n",
       "      <th>Dragon Master Knight</th>\n",
       "      <td>LIGHT</td>\n",
       "      <td>12</td>\n",
       "      <td>Dragon</td>\n",
       "      <td>5000</td>\n",
       "      <td>5000</td>\n",
       "      <td>2</td>\n",
       "    </tr>\n",
       "    <tr>\n",
       "      <th>Dystopia the Despondent</th>\n",
       "      <td>DARK</td>\n",
       "      <td>12</td>\n",
       "      <td>Fiend</td>\n",
       "      <td>5000</td>\n",
       "      <td>5000</td>\n",
       "      <td>2</td>\n",
       "    </tr>\n",
       "    <tr>\n",
       "      <th>Five-Headed Dragon</th>\n",
       "      <td>DARK</td>\n",
       "      <td>12</td>\n",
       "      <td>Dragon</td>\n",
       "      <td>5000</td>\n",
       "      <td>5000</td>\n",
       "      <td>2</td>\n",
       "    </tr>\n",
       "    <tr>\n",
       "      <th>Malefic Truth Dragon</th>\n",
       "      <td>DARK</td>\n",
       "      <td>12</td>\n",
       "      <td>Dragon</td>\n",
       "      <td>5000</td>\n",
       "      <td>5000</td>\n",
       "      <td>2</td>\n",
       "    </tr>\n",
       "    <tr>\n",
       "      <th>Flower Cardian Lightflare</th>\n",
       "      <td>DARK</td>\n",
       "      <td>10</td>\n",
       "      <td>Warrior</td>\n",
       "      <td>5000</td>\n",
       "      <td>0</td>\n",
       "      <td>2</td>\n",
       "    </tr>\n",
       "    <tr>\n",
       "      <th>Rocket Arrow Express</th>\n",
       "      <td>EARTH</td>\n",
       "      <td>10</td>\n",
       "      <td>Machine</td>\n",
       "      <td>5000</td>\n",
       "      <td>0</td>\n",
       "      <td>2</td>\n",
       "    </tr>\n",
       "    <tr>\n",
       "      <th>Superdimensional Robot Galaxy Destroyer</th>\n",
       "      <td>LIGHT</td>\n",
       "      <td>10</td>\n",
       "      <td>Machine</td>\n",
       "      <td>5000</td>\n",
       "      <td>2000</td>\n",
       "      <td>2</td>\n",
       "    </tr>\n",
       "    <tr>\n",
       "      <th>Machina Force</th>\n",
       "      <td>EARTH</td>\n",
       "      <td>10</td>\n",
       "      <td>Machine</td>\n",
       "      <td>4600</td>\n",
       "      <td>4100</td>\n",
       "      <td>2</td>\n",
       "    </tr>\n",
       "    <tr>\n",
       "      <th>Blue-Eyes Ultimate Dragon</th>\n",
       "      <td>LIGHT</td>\n",
       "      <td>12</td>\n",
       "      <td>Dragon</td>\n",
       "      <td>4500</td>\n",
       "      <td>3800</td>\n",
       "      <td>2</td>\n",
       "    </tr>\n",
       "    <tr>\n",
       "      <th>Neo Blue-Eyes Ultimate Dragon</th>\n",
       "      <td>LIGHT</td>\n",
       "      <td>12</td>\n",
       "      <td>Dragon</td>\n",
       "      <td>4500</td>\n",
       "      <td>3800</td>\n",
       "      <td>2</td>\n",
       "    </tr>\n",
       "  </tbody>\n",
       "</table>\n",
       "</div>"
      ],
      "text/plain": [
       "                                        Atribut  Level_Rank      Tip   ATK  \\\n",
       "Ime                                                                          \n",
       "Dragon Master Knight                      LIGHT          12   Dragon  5000   \n",
       "Dystopia the Despondent                    DARK          12    Fiend  5000   \n",
       "Five-Headed Dragon                         DARK          12   Dragon  5000   \n",
       "Malefic Truth Dragon                       DARK          12   Dragon  5000   \n",
       "Flower Cardian Lightflare                  DARK          10  Warrior  5000   \n",
       "Rocket Arrow Express                      EARTH          10  Machine  5000   \n",
       "Superdimensional Robot Galaxy Destroyer   LIGHT          10  Machine  5000   \n",
       "Machina Force                             EARTH          10  Machine  4600   \n",
       "Blue-Eyes Ultimate Dragon                 LIGHT          12   Dragon  4500   \n",
       "Neo Blue-Eyes Ultimate Dragon             LIGHT          12   Dragon  4500   \n",
       "\n",
       "                                          DEF  Stevilo_tributov  \n",
       "Ime                                                              \n",
       "Dragon Master Knight                     5000                 2  \n",
       "Dystopia the Despondent                  5000                 2  \n",
       "Five-Headed Dragon                       5000                 2  \n",
       "Malefic Truth Dragon                     5000                 2  \n",
       "Flower Cardian Lightflare                   0                 2  \n",
       "Rocket Arrow Express                        0                 2  \n",
       "Superdimensional Robot Galaxy Destroyer  2000                 2  \n",
       "Machina Force                            4100                 2  \n",
       "Blue-Eyes Ultimate Dragon                3800                 2  \n",
       "Neo Blue-Eyes Ultimate Dragon            3800                 2  "
      ]
     },
     "execution_count": 26,
     "metadata": {},
     "output_type": "execute_result"
    }
   ],
   "source": [
    "#10 pošasti z najvišjim napadom, ki potrebujejo 2 tributa za priklic\n",
    "monstri_po_tirbutih_in_napadu[monstri_po_tirbutih_in_napadu.Stevilo_tributov == 2].head(10)"
   ]
  },
  {
   "cell_type": "code",
   "execution_count": null,
   "metadata": {
    "collapsed": true
   },
   "outputs": [],
   "source": []
  }
 ],
 "metadata": {
  "kernelspec": {
   "display_name": "Python 3",
   "language": "python",
   "name": "python3"
  },
  "language_info": {
   "codemirror_mode": {
    "name": "ipython",
    "version": 3
   },
   "file_extension": ".py",
   "mimetype": "text/x-python",
   "name": "python",
   "nbconvert_exporter": "python",
   "pygments_lexer": "ipython3",
   "version": "3.6.2"
  }
 },
 "nbformat": 4,
 "nbformat_minor": 2
}
